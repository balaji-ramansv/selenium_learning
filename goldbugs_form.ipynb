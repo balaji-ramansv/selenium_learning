{
 "cells": [
  {
   "cell_type": "code",
   "execution_count": 1,
   "id": "04e0d6bb",
   "metadata": {},
   "outputs": [],
   "source": [
    "from settings import GOLDBUGS_URL, CHROMEDRIVER_PATH\n",
    "from selenium import webdriver\n",
    "from selenium.webdriver.chrome.service import Service\n",
    "from selenium.webdriver.common.by import By"
   ]
  },
  {
   "cell_type": "code",
   "execution_count": 2,
   "id": "d564f325",
   "metadata": {},
   "outputs": [],
   "source": [
    "service = Service(executable_path=CHROMEDRIVER_PATH)"
   ]
  },
  {
   "cell_type": "code",
   "execution_count": 3,
   "id": "994f7b3e",
   "metadata": {},
   "outputs": [],
   "source": [
    "driver = webdriver.Chrome(service=service)"
   ]
  },
  {
   "cell_type": "code",
   "execution_count": 4,
   "id": "269d0187",
   "metadata": {},
   "outputs": [],
   "source": [
    "driver.get(GOLDBUGS_URL)"
   ]
  },
  {
   "cell_type": "code",
   "execution_count": 5,
   "id": "11ea6bfc",
   "metadata": {},
   "outputs": [],
   "source": [
    "first_name_input_element = driver.find_element(By.ID, 'name-yui_3_17_2_1_1664570076619_2727-fname-field')"
   ]
  },
  {
   "cell_type": "code",
   "execution_count": 6,
   "id": "01858092",
   "metadata": {},
   "outputs": [],
   "source": [
    "first_name_input_element.send_keys('Balaji')"
   ]
  },
  {
   "cell_type": "code",
   "execution_count": 7,
   "id": "3fafb839",
   "metadata": {},
   "outputs": [],
   "source": [
    "last_name_input_element = driver.find_element(By.ID, 'name-yui_3_17_2_1_1664570076619_2727-lname-field')"
   ]
  },
  {
   "cell_type": "code",
   "execution_count": 10,
   "id": "99182cde",
   "metadata": {},
   "outputs": [],
   "source": [
    "last_name_input_element.send_keys('Ramakrishnan')"
   ]
  },
  {
   "cell_type": "code",
   "execution_count": 11,
   "id": "34d380d5",
   "metadata": {},
   "outputs": [],
   "source": [
    "email_input_element = driver.find_element(By.ID, 'email-yui_3_17_2_1_1664570076619_2728-field')"
   ]
  },
  {
   "cell_type": "code",
   "execution_count": 12,
   "id": "8f21e0c8",
   "metadata": {},
   "outputs": [],
   "source": [
    "email_input_element.send_keys('balaji@gmail.com')"
   ]
  },
  {
   "cell_type": "code",
   "execution_count": 13,
   "id": "77cb911b",
   "metadata": {},
   "outputs": [],
   "source": [
    "subject_input_element = driver.find_element(By.ID, 'text-yui_3_17_2_1_1664570076619_2729-field')"
   ]
  },
  {
   "cell_type": "code",
   "execution_count": 14,
   "id": "df649a69",
   "metadata": {},
   "outputs": [],
   "source": [
    "subject_input_element.send_keys('Booking for a birthday party')"
   ]
  },
  {
   "cell_type": "code",
   "execution_count": 15,
   "id": "0ec7d850",
   "metadata": {},
   "outputs": [],
   "source": [
    "message_text_area_element = driver.find_element(By.XPATH, '//textarea[@aria-invalid=\"false\"][@class=\"qj2U4ppWTRohr5rP\"]')"
   ]
  },
  {
   "cell_type": "code",
   "execution_count": 16,
   "id": "f2006ecf",
   "metadata": {},
   "outputs": [],
   "source": [
    "message_text_area_element.send_keys('My daughters bday party is on 12th of this month. Are you guys available?')"
   ]
  },
  {
   "cell_type": "code",
   "execution_count": 19,
   "id": "9f3d0221",
   "metadata": {},
   "outputs": [],
   "source": [
    "check_box = driver.find_element(By.XPATH, '//input[@class=\"wIoTXuBC0lMFtpfY\"][@value=\"Response Required\"]')"
   ]
  },
  {
   "cell_type": "code",
   "execution_count": 31,
   "id": "2de595fc",
   "metadata": {},
   "outputs": [],
   "source": [
    "check_box.click()"
   ]
  },
  {
   "cell_type": "code",
   "execution_count": 32,
   "id": "19dd7b64",
   "metadata": {},
   "outputs": [],
   "source": [
    "radio_element = driver.find_element(By.ID, 'yui_3_17_2_1_1746426985450_689')"
   ]
  },
  {
   "cell_type": "code",
   "execution_count": 27,
   "id": "b368786a",
   "metadata": {},
   "outputs": [
    {
     "data": {
      "text/plain": [
       "['__abstractmethods__',\n",
       " '__class__',\n",
       " '__delattr__',\n",
       " '__dict__',\n",
       " '__dir__',\n",
       " '__doc__',\n",
       " '__eq__',\n",
       " '__format__',\n",
       " '__ge__',\n",
       " '__getattribute__',\n",
       " '__getstate__',\n",
       " '__gt__',\n",
       " '__hash__',\n",
       " '__init__',\n",
       " '__init_subclass__',\n",
       " '__le__',\n",
       " '__lt__',\n",
       " '__module__',\n",
       " '__ne__',\n",
       " '__new__',\n",
       " '__reduce__',\n",
       " '__reduce_ex__',\n",
       " '__repr__',\n",
       " '__setattr__',\n",
       " '__sizeof__',\n",
       " '__str__',\n",
       " '__subclasshook__',\n",
       " '__weakref__',\n",
       " '_abc_impl',\n",
       " '_execute',\n",
       " '_id',\n",
       " '_parent',\n",
       " '_upload',\n",
       " 'accessible_name',\n",
       " 'aria_role',\n",
       " 'clear',\n",
       " 'click',\n",
       " 'find_element',\n",
       " 'find_elements',\n",
       " 'get_attribute',\n",
       " 'get_dom_attribute',\n",
       " 'get_property',\n",
       " 'id',\n",
       " 'is_displayed',\n",
       " 'is_enabled',\n",
       " 'is_selected',\n",
       " 'location',\n",
       " 'location_once_scrolled_into_view',\n",
       " 'parent',\n",
       " 'rect',\n",
       " 'screenshot',\n",
       " 'screenshot_as_base64',\n",
       " 'screenshot_as_png',\n",
       " 'send_keys',\n",
       " 'shadow_root',\n",
       " 'size',\n",
       " 'submit',\n",
       " 'tag_name',\n",
       " 'text',\n",
       " 'value_of_css_property']"
      ]
     },
     "execution_count": 27,
     "metadata": {},
     "output_type": "execute_result"
    }
   ],
   "source": [
    "dir(radio_element)"
   ]
  },
  {
   "cell_type": "code",
   "execution_count": 33,
   "id": "b7357750",
   "metadata": {},
   "outputs": [
    {
     "data": {
      "text/plain": [
       "False"
      ]
     },
     "execution_count": 33,
     "metadata": {},
     "output_type": "execute_result"
    }
   ],
   "source": [
    "radio_element.is_selected()"
   ]
  },
  {
   "cell_type": "code",
   "execution_count": 34,
   "id": "44f09e79",
   "metadata": {},
   "outputs": [],
   "source": [
    "radio_element.click()"
   ]
  },
  {
   "cell_type": "code",
   "execution_count": 35,
   "id": "390d81f3",
   "metadata": {},
   "outputs": [],
   "source": [
    "drop_down_element = driver.find_element(By.ID, 'select-e1f50715-c8a7-48eb-bc99-2c245676068c-field')"
   ]
  },
  {
   "cell_type": "code",
   "execution_count": 36,
   "id": "5144b252",
   "metadata": {},
   "outputs": [
    {
     "data": {
      "text/plain": [
       "'Google\\nFacebook\\nInstagram\\nOther'"
      ]
     },
     "execution_count": 36,
     "metadata": {},
     "output_type": "execute_result"
    }
   ],
   "source": [
    "drop_down_element.text"
   ]
  },
  {
   "cell_type": "code",
   "execution_count": 37,
   "id": "f991fbca",
   "metadata": {},
   "outputs": [
    {
     "data": {
      "text/plain": [
       "['__abstractmethods__',\n",
       " '__class__',\n",
       " '__delattr__',\n",
       " '__dict__',\n",
       " '__dir__',\n",
       " '__doc__',\n",
       " '__eq__',\n",
       " '__format__',\n",
       " '__ge__',\n",
       " '__getattribute__',\n",
       " '__getstate__',\n",
       " '__gt__',\n",
       " '__hash__',\n",
       " '__init__',\n",
       " '__init_subclass__',\n",
       " '__le__',\n",
       " '__lt__',\n",
       " '__module__',\n",
       " '__ne__',\n",
       " '__new__',\n",
       " '__reduce__',\n",
       " '__reduce_ex__',\n",
       " '__repr__',\n",
       " '__setattr__',\n",
       " '__sizeof__',\n",
       " '__str__',\n",
       " '__subclasshook__',\n",
       " '__weakref__',\n",
       " '_abc_impl',\n",
       " '_execute',\n",
       " '_id',\n",
       " '_parent',\n",
       " '_upload',\n",
       " 'accessible_name',\n",
       " 'aria_role',\n",
       " 'clear',\n",
       " 'click',\n",
       " 'find_element',\n",
       " 'find_elements',\n",
       " 'get_attribute',\n",
       " 'get_dom_attribute',\n",
       " 'get_property',\n",
       " 'id',\n",
       " 'is_displayed',\n",
       " 'is_enabled',\n",
       " 'is_selected',\n",
       " 'location',\n",
       " 'location_once_scrolled_into_view',\n",
       " 'parent',\n",
       " 'rect',\n",
       " 'screenshot',\n",
       " 'screenshot_as_base64',\n",
       " 'screenshot_as_png',\n",
       " 'send_keys',\n",
       " 'shadow_root',\n",
       " 'size',\n",
       " 'submit',\n",
       " 'tag_name',\n",
       " 'text',\n",
       " 'value_of_css_property']"
      ]
     },
     "execution_count": 37,
     "metadata": {},
     "output_type": "execute_result"
    }
   ],
   "source": [
    "dir(drop_down_element)"
   ]
  },
  {
   "cell_type": "code",
   "execution_count": 38,
   "id": "48a0443d",
   "metadata": {},
   "outputs": [
    {
     "ename": "TypeError",
     "evalue": "WebElement.get_dom_attribute() missing 1 required positional argument: 'name'",
     "output_type": "error",
     "traceback": [
      "\u001b[1;31m---------------------------------------------------------------------------\u001b[0m",
      "\u001b[1;31mTypeError\u001b[0m                                 Traceback (most recent call last)",
      "Cell \u001b[1;32mIn [38], line 1\u001b[0m\n\u001b[1;32m----> 1\u001b[0m drop_down_element\u001b[38;5;241m.\u001b[39mget_dom_attribute()\n",
      "\u001b[1;31mTypeError\u001b[0m: WebElement.get_dom_attribute() missing 1 required positional argument: 'name'"
     ]
    }
   ],
   "source": [
    "drop_down_element.get_dom_attribute()"
   ]
  },
  {
   "cell_type": "code",
   "execution_count": 39,
   "id": "a493de41",
   "metadata": {},
   "outputs": [],
   "source": [
    "from selenium.webdriver.support.ui import Select"
   ]
  },
  {
   "cell_type": "code",
   "execution_count": 40,
   "id": "f5fbf5f0",
   "metadata": {},
   "outputs": [],
   "source": [
    "select = Select(drop_down_element)"
   ]
  },
  {
   "cell_type": "code",
   "execution_count": 41,
   "id": "928a7f96",
   "metadata": {},
   "outputs": [
    {
     "data": {
      "text/plain": [
       "[<selenium.webdriver.remote.webelement.WebElement (session=\"11b9483c60fc0617d71442d5d1850bd9\", element=\"f.CED0CB6EF94A08DA7ED61B5CFAF4B1B2.d.48D8950BFA13A89A989EB4F0F7FCE791.e.409\")>,\n",
       " <selenium.webdriver.remote.webelement.WebElement (session=\"11b9483c60fc0617d71442d5d1850bd9\", element=\"f.CED0CB6EF94A08DA7ED61B5CFAF4B1B2.d.48D8950BFA13A89A989EB4F0F7FCE791.e.412\")>,\n",
       " <selenium.webdriver.remote.webelement.WebElement (session=\"11b9483c60fc0617d71442d5d1850bd9\", element=\"f.CED0CB6EF94A08DA7ED61B5CFAF4B1B2.d.48D8950BFA13A89A989EB4F0F7FCE791.e.415\")>,\n",
       " <selenium.webdriver.remote.webelement.WebElement (session=\"11b9483c60fc0617d71442d5d1850bd9\", element=\"f.CED0CB6EF94A08DA7ED61B5CFAF4B1B2.d.48D8950BFA13A89A989EB4F0F7FCE791.e.418\")>]"
      ]
     },
     "execution_count": 41,
     "metadata": {},
     "output_type": "execute_result"
    }
   ],
   "source": [
    "select.options"
   ]
  },
  {
   "cell_type": "code",
   "execution_count": 42,
   "id": "b6c9aad4",
   "metadata": {},
   "outputs": [
    {
     "name": "stdout",
     "output_type": "stream",
     "text": [
      "Google\n",
      "Facebook\n",
      "Instagram\n",
      "Other\n"
     ]
    }
   ],
   "source": [
    "for option in select.options:\n",
    "    print(option.text)"
   ]
  },
  {
   "cell_type": "code",
   "execution_count": 44,
   "id": "bd105536",
   "metadata": {},
   "outputs": [],
   "source": [
    "for option in select.options:\n",
    "    val = option.text\n",
    "    if val == \"Google\":\n",
    "        select.select_by_value(val)"
   ]
  },
  {
   "cell_type": "code",
   "execution_count": 55,
   "id": "ddbb1ed2",
   "metadata": {},
   "outputs": [],
   "source": [
    "feedback_radio_element = driver.find_element(By.XPATH, '//label[text()=\"Strongly Agree\"]')"
   ]
  },
  {
   "cell_type": "code",
   "execution_count": 56,
   "id": "26cf2ada",
   "metadata": {},
   "outputs": [],
   "source": [
    "feedback_radio_element.click()"
   ]
  },
  {
   "cell_type": "code",
   "execution_count": 57,
   "id": "5318d405",
   "metadata": {},
   "outputs": [],
   "source": [
    "submit_button_element = driver.find_element(By.XPATH, '//button[@type=\"submit\"]')"
   ]
  },
  {
   "cell_type": "code",
   "execution_count": 58,
   "id": "a9a11223",
   "metadata": {},
   "outputs": [],
   "source": [
    "submit_button_element.click()"
   ]
  },
  {
   "cell_type": "code",
   "execution_count": 59,
   "id": "60ea5140",
   "metadata": {},
   "outputs": [],
   "source": [
    "driver.quit()"
   ]
  },
  {
   "cell_type": "code",
   "execution_count": null,
   "id": "ebee92a3",
   "metadata": {},
   "outputs": [],
   "source": []
  }
 ],
 "metadata": {
  "kernelspec": {
   "display_name": "Python 3 (ipykernel)",
   "language": "python",
   "name": "python3"
  },
  "language_info": {
   "codemirror_mode": {
    "name": "ipython",
    "version": 3
   },
   "file_extension": ".py",
   "mimetype": "text/x-python",
   "name": "python",
   "nbconvert_exporter": "python",
   "pygments_lexer": "ipython3",
   "version": "3.12.4"
  }
 },
 "nbformat": 4,
 "nbformat_minor": 5
}
