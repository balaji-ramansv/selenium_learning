{
 "cells": [
  {
   "cell_type": "code",
   "execution_count": 2,
   "id": "bea1dd0d",
   "metadata": {},
   "outputs": [],
   "source": [
    "from settings import WIKIPEDIA_URL, CHROMEDRIVER_PATH\n",
    "from selenium import webdriver\n",
    "from selenium.webdriver.chrome.service import Service\n",
    "from selenium.webdriver.common.by import By"
   ]
  },
  {
   "cell_type": "code",
   "execution_count": 3,
   "id": "23bcd27e",
   "metadata": {},
   "outputs": [],
   "source": [
    "service = Service(executable_path=CHROMEDRIVER_PATH)\n",
    "driver = webdriver.Chrome(service=service)\n",
    "driver.get(WIKIPEDIA_URL)"
   ]
  },
  {
   "cell_type": "code",
   "execution_count": 4,
   "id": "44960087",
   "metadata": {},
   "outputs": [],
   "source": [
    "featured_article = driver.find_element(By.ID, \"mp-left\")"
   ]
  },
  {
   "cell_type": "code",
   "execution_count": 6,
   "id": "15a63cb9",
   "metadata": {},
   "outputs": [],
   "source": [
    "featured_article_details = featured_article.find_elements(By.TAG_NAME, \"a\" )"
   ]
  },
  {
   "cell_type": "code",
   "execution_count": 9,
   "id": "32c46bed",
   "metadata": {},
   "outputs": [
    {
     "name": "stdout",
     "output_type": "stream",
     "text": [
      "{'featured_article': [{'title': 'Richard Mansfield as Jekyll and Hyde', 'text': '', 'href': 'https://en.wikipedia.org/wiki/File:Richard_Mansfield_Jekyll.jpg'}, {'title': 'Dr. Jekyll and Mr. Hyde (1887 play)', 'text': 'Dr. Jekyll and Mr. Hyde', 'href': 'https://en.wikipedia.org/wiki/Dr._Jekyll_and_Mr._Hyde_(1887_play)'}, {'title': 'Thomas Russell Sullivan', 'text': 'Thomas Russell Sullivan', 'href': 'https://en.wikipedia.org/wiki/Thomas_Russell_Sullivan'}, {'title': 'Richard Mansfield', 'text': 'Richard Mansfield', 'href': 'https://en.wikipedia.org/wiki/Richard_Mansfield'}, {'title': 'Strange Case of Dr Jekyll and Mr Hyde', 'text': 'Strange Case of Dr Jekyll and Mr Hyde', 'href': 'https://en.wikipedia.org/wiki/Strange_Case_of_Dr_Jekyll_and_Mr_Hyde'}, {'title': 'Novella', 'text': 'novella', 'href': 'https://en.wikipedia.org/wiki/Novella'}, {'title': 'Robert Louis Stevenson', 'text': 'Robert Louis Stevenson', 'href': 'https://en.wikipedia.org/wiki/Robert_Louis_Stevenson'}, {'title': 'Dr. Jekyll and Mr. Hyde (character)', 'text': 'Henry Jekyll', 'href': 'https://en.wikipedia.org/wiki/Dr._Jekyll_and_Mr._Hyde_(character)'}, {'title': 'Broadway theatre', 'text': 'Broadway', 'href': 'https://en.wikipedia.org/wiki/Broadway_theatre'}, {'title': 'Jack the Ripper', 'text': 'Jack the Ripper', 'href': 'https://en.wikipedia.org/wiki/Jack_the_Ripper'}, {'title': 'Dr. Jekyll and Mr. Hyde (1887 play)', 'text': 'Full article...', 'href': 'https://en.wikipedia.org/wiki/Dr._Jekyll_and_Mr._Hyde_(1887_play)'}, {'title': 'Fantastic Novels', 'text': 'Fantastic Novels', 'href': 'https://en.wikipedia.org/wiki/Fantastic_Novels'}, {'title': 'Edgar Towner', 'text': 'Edgar Towner', 'href': 'https://en.wikipedia.org/wiki/Edgar_Towner'}, {'title': 'Battle of Poison Spring', 'text': 'Battle of Poison Spring', 'href': 'https://en.wikipedia.org/wiki/Battle_of_Poison_Spring'}, {'title': \"Wikipedia:Today's featured article/April 2025\", 'text': 'Archive', 'href': 'https://en.wikipedia.org/wiki/Wikipedia:Today%27s_featured_article/April_2025'}, {'title': 'mail:daily-article-l', 'text': 'By email', 'href': 'https://lists.wikimedia.org/postorius/lists/daily-article-l.lists.wikimedia.org/'}, {'title': 'Wikipedia:Featured articles', 'text': 'More featured articles', 'href': 'https://en.wikipedia.org/wiki/Wikipedia:Featured_articles'}, {'title': \"Wikipedia:About Today's featured article\", 'text': 'About', 'href': 'https://en.wikipedia.org/wiki/Wikipedia:About_Today%27s_featured_article'}, {'title': 'Gilbert LaBine with uranium ore for the Manhattan Project', 'text': '', 'href': 'https://en.wikipedia.org/wiki/File:Gilbert_Labine_examining_uranium_ore_at_the_Eldorado_Mine_located_at_Great_Bear_Lake,_Northwest_Territories.jpg'}, {'title': 'Gilbert LaBine', 'text': 'Gilbert LaBine', 'href': 'https://en.wikipedia.org/wiki/Gilbert_LaBine'}, {'title': 'Manhattan Project feed materials program', 'text': 'Manhattan Project feed materials program', 'href': 'https://en.wikipedia.org/wiki/Manhattan_Project_feed_materials_program'}, {'title': 'Godfrey Hattenbach', 'text': 'Godfrey Hattenbach', 'href': 'https://en.wikipedia.org/wiki/Godfrey_Hattenbach'}, {'title': 'Sioux City, Iowa', 'text': 'Sioux City', 'href': 'https://en.wikipedia.org/wiki/Sioux_City,_Iowa'}, {'title': 'Church of Saint John of Kronstadt (Hamburg)', 'text': 'Church of Saint John of Kronstadt', 'href': 'https://en.wikipedia.org/wiki/Church_of_Saint_John_of_Kronstadt_(Hamburg)'}, {'title': 'Russian Orthodox Church', 'text': 'Russian Orthodox', 'href': 'https://en.wikipedia.org/wiki/Russian_Orthodox_Church'}, {'title': 'Walter Hackett', 'text': 'Walter \"Long Run\" Hackett', 'href': 'https://en.wikipedia.org/wiki/Walter_Hackett'}, {'title': 'West End theatre', 'text': 'West End', 'href': 'https://en.wikipedia.org/wiki/West_End_theatre'}, {'title': 'Magic: The Gathering', 'text': 'Magic: The Gathering', 'href': 'https://en.wikipedia.org/wiki/Magic:_The_Gathering'}, {'title': 'Tolarian Community College', 'text': 'Tolarian Community College', 'href': 'https://en.wikipedia.org/wiki/Tolarian_Community_College'}, {'title': 'Trans Lifeline', 'text': 'Trans Lifeline', 'href': 'https://en.wikipedia.org/wiki/Trans_Lifeline'}, {'title': 'John J. Beckley', 'text': 'John J. Beckley', 'href': 'https://en.wikipedia.org/wiki/John_J._Beckley'}, {'title': 'Librarian of Congress', 'text': 'librarian of Congress', 'href': 'https://en.wikipedia.org/wiki/Librarian_of_Congress'}, {'title': 'India national cricket team', 'text': 'India', 'href': 'https://en.wikipedia.org/wiki/India_national_cricket_team'}, {'title': \"Men's T20 World Cup\", 'text': 'T20 World Cup', 'href': 'https://en.wikipedia.org/wiki/Men%27s_T20_World_Cup'}, {'title': \"2024 Men's T20 World Cup\", 'text': 'the 2024 tournament', 'href': 'https://en.wikipedia.org/wiki/2024_Men%27s_T20_World_Cup'}, {'title': 'Richmond Tunnel', 'text': 'Richmond Tunnel', 'href': 'https://en.wikipedia.org/wiki/Richmond_Tunnel'}, {'title': 'Staten Island', 'text': 'Staten Island', 'href': 'https://en.wikipedia.org/wiki/Staten_Island'}, {'title': 'Eaea', 'text': 'Eaea', 'href': 'https://en.wikipedia.org/wiki/Eaea'}, {'title': 'Wikipedia:Recent additions', 'text': 'Archive', 'href': 'https://en.wikipedia.org/wiki/Wikipedia:Recent_additions'}, {'title': 'Help:Your first article', 'text': 'Start a new article', 'href': 'https://en.wikipedia.org/wiki/Help:Your_first_article'}, {'title': 'Template talk:Did you know', 'text': 'Nominate an article', 'href': 'https://en.wikipedia.org/wiki/Template_talk:Did_you_know'}], 'in_the_news': [], 'did_you_know': [], 'on_this_day': []}\n"
     ]
    }
   ],
   "source": [
    "final = {\n",
    "    \"featured_article\": [],\n",
    "    \"in_the_news\": [],\n",
    "    \"did_you_know\": [],\n",
    "    \"on_this_day\": []\n",
    "}\n",
    "for fa_link in featured_article_details:\n",
    "    final[\"featured_article\"].append({\n",
    "        \"title\": fa_link.get_attribute(\"title\"),\n",
    "        \"text\": fa_link.text,\n",
    "        \"href\": fa_link.get_attribute(\"href\"),\n",
    "    })\n",
    "print(final)"
   ]
  },
  {
   "cell_type": "code",
   "execution_count": 10,
   "id": "53ef3c74",
   "metadata": {},
   "outputs": [
    {
     "name": "stdout",
     "output_type": "stream",
     "text": [
      "{'featured_article': [{'title': 'Richard Mansfield as Jekyll and Hyde', 'text': '', 'href': 'https://en.wikipedia.org/wiki/File:Richard_Mansfield_Jekyll.jpg'}, {'title': 'Dr. Jekyll and Mr. Hyde (1887 play)', 'text': 'Dr. Jekyll and Mr. Hyde', 'href': 'https://en.wikipedia.org/wiki/Dr._Jekyll_and_Mr._Hyde_(1887_play)'}, {'title': 'Thomas Russell Sullivan', 'text': 'Thomas Russell Sullivan', 'href': 'https://en.wikipedia.org/wiki/Thomas_Russell_Sullivan'}, {'title': 'Richard Mansfield', 'text': 'Richard Mansfield', 'href': 'https://en.wikipedia.org/wiki/Richard_Mansfield'}, {'title': 'Strange Case of Dr Jekyll and Mr Hyde', 'text': 'Strange Case of Dr Jekyll and Mr Hyde', 'href': 'https://en.wikipedia.org/wiki/Strange_Case_of_Dr_Jekyll_and_Mr_Hyde'}, {'title': 'Novella', 'text': 'novella', 'href': 'https://en.wikipedia.org/wiki/Novella'}, {'title': 'Robert Louis Stevenson', 'text': 'Robert Louis Stevenson', 'href': 'https://en.wikipedia.org/wiki/Robert_Louis_Stevenson'}, {'title': 'Dr. Jekyll and Mr. Hyde (character)', 'text': 'Henry Jekyll', 'href': 'https://en.wikipedia.org/wiki/Dr._Jekyll_and_Mr._Hyde_(character)'}, {'title': 'Broadway theatre', 'text': 'Broadway', 'href': 'https://en.wikipedia.org/wiki/Broadway_theatre'}, {'title': 'Jack the Ripper', 'text': 'Jack the Ripper', 'href': 'https://en.wikipedia.org/wiki/Jack_the_Ripper'}, {'title': 'Dr. Jekyll and Mr. Hyde (1887 play)', 'text': 'Full article...', 'href': 'https://en.wikipedia.org/wiki/Dr._Jekyll_and_Mr._Hyde_(1887_play)'}, {'title': 'Fantastic Novels', 'text': 'Fantastic Novels', 'href': 'https://en.wikipedia.org/wiki/Fantastic_Novels'}, {'title': 'Edgar Towner', 'text': 'Edgar Towner', 'href': 'https://en.wikipedia.org/wiki/Edgar_Towner'}, {'title': 'Battle of Poison Spring', 'text': 'Battle of Poison Spring', 'href': 'https://en.wikipedia.org/wiki/Battle_of_Poison_Spring'}, {'title': \"Wikipedia:Today's featured article/April 2025\", 'text': 'Archive', 'href': 'https://en.wikipedia.org/wiki/Wikipedia:Today%27s_featured_article/April_2025'}, {'title': 'mail:daily-article-l', 'text': 'By email', 'href': 'https://lists.wikimedia.org/postorius/lists/daily-article-l.lists.wikimedia.org/'}, {'title': 'Wikipedia:Featured articles', 'text': 'More featured articles', 'href': 'https://en.wikipedia.org/wiki/Wikipedia:Featured_articles'}, {'title': \"Wikipedia:About Today's featured article\", 'text': 'About', 'href': 'https://en.wikipedia.org/wiki/Wikipedia:About_Today%27s_featured_article'}, {'title': 'Gilbert LaBine with uranium ore for the Manhattan Project', 'text': '', 'href': 'https://en.wikipedia.org/wiki/File:Gilbert_Labine_examining_uranium_ore_at_the_Eldorado_Mine_located_at_Great_Bear_Lake,_Northwest_Territories.jpg'}, {'title': 'Gilbert LaBine', 'text': 'Gilbert LaBine', 'href': 'https://en.wikipedia.org/wiki/Gilbert_LaBine'}, {'title': 'Manhattan Project feed materials program', 'text': 'Manhattan Project feed materials program', 'href': 'https://en.wikipedia.org/wiki/Manhattan_Project_feed_materials_program'}, {'title': 'Godfrey Hattenbach', 'text': 'Godfrey Hattenbach', 'href': 'https://en.wikipedia.org/wiki/Godfrey_Hattenbach'}, {'title': 'Sioux City, Iowa', 'text': 'Sioux City', 'href': 'https://en.wikipedia.org/wiki/Sioux_City,_Iowa'}, {'title': 'Church of Saint John of Kronstadt (Hamburg)', 'text': 'Church of Saint John of Kronstadt', 'href': 'https://en.wikipedia.org/wiki/Church_of_Saint_John_of_Kronstadt_(Hamburg)'}, {'title': 'Russian Orthodox Church', 'text': 'Russian Orthodox', 'href': 'https://en.wikipedia.org/wiki/Russian_Orthodox_Church'}, {'title': 'Walter Hackett', 'text': 'Walter \"Long Run\" Hackett', 'href': 'https://en.wikipedia.org/wiki/Walter_Hackett'}, {'title': 'West End theatre', 'text': 'West End', 'href': 'https://en.wikipedia.org/wiki/West_End_theatre'}, {'title': 'Magic: The Gathering', 'text': 'Magic: The Gathering', 'href': 'https://en.wikipedia.org/wiki/Magic:_The_Gathering'}, {'title': 'Tolarian Community College', 'text': 'Tolarian Community College', 'href': 'https://en.wikipedia.org/wiki/Tolarian_Community_College'}, {'title': 'Trans Lifeline', 'text': 'Trans Lifeline', 'href': 'https://en.wikipedia.org/wiki/Trans_Lifeline'}, {'title': 'John J. Beckley', 'text': 'John J. Beckley', 'href': 'https://en.wikipedia.org/wiki/John_J._Beckley'}, {'title': 'Librarian of Congress', 'text': 'librarian of Congress', 'href': 'https://en.wikipedia.org/wiki/Librarian_of_Congress'}, {'title': 'India national cricket team', 'text': 'India', 'href': 'https://en.wikipedia.org/wiki/India_national_cricket_team'}, {'title': \"Men's T20 World Cup\", 'text': 'T20 World Cup', 'href': 'https://en.wikipedia.org/wiki/Men%27s_T20_World_Cup'}, {'title': \"2024 Men's T20 World Cup\", 'text': 'the 2024 tournament', 'href': 'https://en.wikipedia.org/wiki/2024_Men%27s_T20_World_Cup'}, {'title': 'Richmond Tunnel', 'text': 'Richmond Tunnel', 'href': 'https://en.wikipedia.org/wiki/Richmond_Tunnel'}, {'title': 'Staten Island', 'text': 'Staten Island', 'href': 'https://en.wikipedia.org/wiki/Staten_Island'}, {'title': 'Eaea', 'text': 'Eaea', 'href': 'https://en.wikipedia.org/wiki/Eaea'}, {'title': 'Wikipedia:Recent additions', 'text': 'Archive', 'href': 'https://en.wikipedia.org/wiki/Wikipedia:Recent_additions'}, {'title': 'Help:Your first article', 'text': 'Start a new article', 'href': 'https://en.wikipedia.org/wiki/Help:Your_first_article'}, {'title': 'Template talk:Did you know', 'text': 'Nominate an article', 'href': 'https://en.wikipedia.org/wiki/Template_talk:Did_you_know'}], 'in_the_news': [{'title': 'Daniel Noboa in March 2025', 'text': '', 'href': 'https://en.wikipedia.org/wiki/File:ENCUENTRO_CON_LA_COMUNIDAD_ECUATORIANA._MIAMI,_29_DE_MARZO_DE_2025_(cropped).jpg'}, {'title': 'Daniel Noboa', 'text': 'Daniel Noboa', 'href': 'https://en.wikipedia.org/wiki/Daniel_Noboa'}, {'title': '2025 Ecuadorian general election', 'text': 'is re-elected', 'href': 'https://en.wikipedia.org/wiki/2025_Ecuadorian_general_election'}, {'title': 'President of Ecuador', 'text': 'president of Ecuador', 'href': 'https://en.wikipedia.org/wiki/President_of_Ecuador'}, {'title': '2010 Nobel Prize in Literature', 'text': 'Nobel Prize in Literature', 'href': 'https://en.wikipedia.org/wiki/2010_Nobel_Prize_in_Literature'}, {'title': 'Mario Vargas Llosa', 'text': 'Mario Vargas Llosa', 'href': 'https://en.wikipedia.org/wiki/Mario_Vargas_Llosa'}, {'title': 'Jet Set nightclub roof collapse', 'text': 'A nightclub roof collapse', 'href': 'https://en.wikipedia.org/wiki/Jet_Set_nightclub_roof_collapse'}, {'title': 'Santo Domingo', 'text': 'Santo Domingo', 'href': 'https://en.wikipedia.org/wiki/Santo_Domingo'}, {'title': 'Basketball', 'text': 'basketball', 'href': 'https://en.wikipedia.org/wiki/Basketball'}, {'title': \"UConn Huskies women's basketball\", 'text': 'UConn Huskies', 'href': 'https://en.wikipedia.org/wiki/UConn_Huskies_women%27s_basketball'}, {'title': \"2025 NCAA Division I women's basketball championship game\", 'text': 'win', 'href': 'https://en.wikipedia.org/wiki/2025_NCAA_Division_I_women%27s_basketball_championship_game'}, {'title': \"Florida Gators men's basketball\", 'text': 'Florida Gators', 'href': 'https://en.wikipedia.org/wiki/Florida_Gators_men%27s_basketball'}, {'title': \"2025 NCAA Division I men's basketball championship game\", 'text': 'win', 'href': 'https://en.wikipedia.org/wiki/2025_NCAA_Division_I_men%27s_basketball_championship_game'}, {'title': 'Portal:Current events', 'text': 'Ongoing', 'href': 'https://en.wikipedia.org/wiki/Portal:Current_events'}, {'title': 'Gaza war', 'text': 'Gaza war', 'href': 'https://en.wikipedia.org/wiki/Gaza_war'}, {'title': 'M23 campaign (2022–present)', 'text': 'M23 campaign', 'href': 'https://en.wikipedia.org/wiki/M23_campaign_(2022%E2%80%93present)'}, {'title': 'Russian invasion of Ukraine', 'text': 'Russian invasion of Ukraine', 'href': 'https://en.wikipedia.org/wiki/Russian_invasion_of_Ukraine'}, {'title': 'Timeline of the Russian invasion of Ukraine (1 January 2025 – present)', 'text': 'timeline', 'href': 'https://en.wikipedia.org/wiki/Timeline_of_the_Russian_invasion_of_Ukraine_(1_January_2025_%E2%80%93_present)'}, {'title': 'Sudanese civil war (2023–present)', 'text': 'Sudanese civil war', 'href': 'https://en.wikipedia.org/wiki/Sudanese_civil_war_(2023%E2%80%93present)'}, {'title': 'Timeline of the Sudanese civil war (2025)', 'text': 'timeline', 'href': 'https://en.wikipedia.org/wiki/Timeline_of_the_Sudanese_civil_war_(2025)'}, {'title': 'Deaths in 2025', 'text': 'Recent deaths', 'href': 'https://en.wikipedia.org/wiki/Deaths_in_2025'}, {'title': 'Joe Thompson (footballer)', 'text': 'Joe Thompson', 'href': 'https://en.wikipedia.org/wiki/Joe_Thompson_(footballer)'}, {'title': 'Kyren Lacy', 'text': 'Kyren Lacy', 'href': 'https://en.wikipedia.org/wiki/Kyren_Lacy'}, {'title': 'Aliza Magen-Halevi', 'text': 'Aliza Magen-Halevi', 'href': 'https://en.wikipedia.org/wiki/Aliza_Magen-Halevi'}, {'title': 'Tommy Helms', 'text': 'Tommy Helms', 'href': 'https://en.wikipedia.org/wiki/Tommy_Helms'}, {'title': 'Peter Seiffert', 'text': 'Peter Seiffert', 'href': 'https://en.wikipedia.org/wiki/Peter_Seiffert'}, {'title': 'Abel Rodríguez (artist)', 'text': 'Abel Rodríguez', 'href': 'https://en.wikipedia.org/wiki/Abel_Rodr%C3%ADguez_(artist)'}, {'title': 'Wikipedia:In the news/Candidates', 'text': 'Nominate an article', 'href': 'https://en.wikipedia.org/wiki/Wikipedia:In_the_news/Candidates'}, {'title': 'April 21', 'text': 'April 21', 'href': 'https://en.wikipedia.org/wiki/April_21'}, {'title': 'Natale di Roma', 'text': 'Natale di Roma', 'href': 'https://en.wikipedia.org/wiki/Natale_di_Roma'}, {'title': 'AD 47', 'text': 'AD 47', 'href': 'https://en.wikipedia.org/wiki/AD_47'}, {'title': \"Patriots' Day\", 'text': \"Patriots' Day\", 'href': 'https://en.wikipedia.org/wiki/Patriots%27_Day'}, {'title': 'Wignacourt Aqueduct', 'text': '', 'href': 'https://en.wikipedia.org/wiki/File:Aquaduct_government_school.jpeg'}, {'title': '900', 'text': '900', 'href': 'https://en.wikipedia.org/wiki/900'}, {'title': 'Tondo (historical polity)', 'text': 'Tondo', 'href': 'https://en.wikipedia.org/wiki/Tondo_(historical_polity)'}, {'title': 'Luzon', 'text': 'Luzon', 'href': 'https://en.wikipedia.org/wiki/Luzon'}, {'title': 'Laguna Copperplate Inscription', 'text': 'Laguna Copperplate Inscription', 'href': 'https://en.wikipedia.org/wiki/Laguna_Copperplate_Inscription'}, {'title': '1615', 'text': '1615', 'href': 'https://en.wikipedia.org/wiki/1615'}, {'title': 'Wignacourt Aqueduct', 'text': 'Wignacourt Aqueduct', 'href': 'https://en.wikipedia.org/wiki/Wignacourt_Aqueduct'}, {'title': 'Valletta', 'text': 'Valletta', 'href': 'https://en.wikipedia.org/wiki/Valletta'}, {'title': '1725', 'text': '1725', 'href': 'https://en.wikipedia.org/wiki/1725'}, {'title': 'Johann Sebastian Bach', 'text': 'J. S. Bach', 'href': 'https://en.wikipedia.org/wiki/Johann_Sebastian_Bach'}, {'title': 'Bleib bei uns, denn es will Abend werden, BWV 6', 'text': 'Bleib bei uns, denn es will Abend werden', 'href': 'https://en.wikipedia.org/wiki/Bleib_bei_uns,_denn_es_will_Abend_werden,_BWV_6'}, {'title': 'Easter Monday', 'text': 'Easter Monday', 'href': 'https://en.wikipedia.org/wiki/Easter_Monday'}, {'title': '1925', 'text': '1925', 'href': 'https://en.wikipedia.org/wiki/1925'}, {'title': '1926', 'text': '1926', 'href': 'https://en.wikipedia.org/wiki/1926'}, {'title': 'Al-Baqi Cemetery', 'text': 'Al-Baqi Cemetery', 'href': 'https://en.wikipedia.org/wiki/Al-Baqi_Cemetery'}, {'title': 'Medina', 'text': 'Medina', 'href': 'https://en.wikipedia.org/wiki/Medina'}, {'title': 'Twelve Imams', 'text': 'Twelve Imams', 'href': 'https://en.wikipedia.org/wiki/Twelve_Imams'}, {'title': 'Shia Islam', 'text': 'Shia Islam', 'href': 'https://en.wikipedia.org/wiki/Shia_Islam'}, {'title': 'Demolition of al-Baqi', 'text': 'was demolished', 'href': 'https://en.wikipedia.org/wiki/Demolition_of_al-Baqi'}, {'title': 'Wahhabism', 'text': 'Wahhabis', 'href': 'https://en.wikipedia.org/wiki/Wahhabism'}, {'title': '1975', 'text': '1975', 'href': 'https://en.wikipedia.org/wiki/1975'}, {'title': 'South Vietnam', 'text': 'South Vietnamese', 'href': 'https://en.wikipedia.org/wiki/South_Vietnam'}, {'title': 'Nguyễn Văn Thiệu', 'text': 'Nguyễn Văn Thiệu', 'href': 'https://en.wikipedia.org/wiki/Nguy%E1%BB%85n_V%C4%83n_Thi%E1%BB%87u'}, {'title': 'Battle of Xuân Lộc', 'text': 'fall of Xuân Lộc', 'href': 'https://en.wikipedia.org/wiki/Battle_of_Xu%C3%A2n_L%E1%BB%99c'}, {'title': 'Vietnam War', 'text': 'Vietnam War', 'href': 'https://en.wikipedia.org/wiki/Vietnam_War'}, {'title': 'Pope Alexander II', 'text': 'Pope Alexander II', 'href': 'https://en.wikipedia.org/wiki/Pope_Alexander_II'}, {'title': 'Antonín Kammel', 'text': 'Antonín Kammel', 'href': 'https://en.wikipedia.org/wiki/Anton%C3%ADn_Kammel'}, {'title': 'Cheryl Gillan', 'text': 'Cheryl Gillan', 'href': 'https://en.wikipedia.org/wiki/Cheryl_Gillan'}, {'title': 'Vivian Maier', 'text': 'Vivian Maier', 'href': 'https://en.wikipedia.org/wiki/Vivian_Maier'}, {'title': 'April 20', 'text': 'April 20', 'href': 'https://en.wikipedia.org/wiki/April_20'}, {'title': 'April 21', 'text': 'April 21', 'href': 'https://en.wikipedia.org/wiki/April_21'}, {'title': 'April 22', 'text': 'April 22', 'href': 'https://en.wikipedia.org/wiki/April_22'}, {'title': 'Wikipedia:Selected anniversaries/April', 'text': 'Archive', 'href': 'https://en.wikipedia.org/wiki/Wikipedia:Selected_anniversaries/April'}, {'title': 'mail:daily-article-l', 'text': 'By email', 'href': 'https://lists.wikimedia.org/postorius/lists/daily-article-l.lists.wikimedia.org/'}, {'title': 'List of days of the year', 'text': 'List of days of the year', 'href': 'https://en.wikipedia.org/wiki/List_of_days_of_the_year'}, {'title': 'Wikipedia:Selected anniversaries', 'text': 'About', 'href': 'https://en.wikipedia.org/wiki/Wikipedia:Selected_anniversaries'}], 'did_you_know': [], 'on_this_day': []}\n"
     ]
    }
   ],
   "source": [
    "in_the_news = driver.find_element(By.ID, \"mp-right\")\n",
    "in_the_news_details = in_the_news.find_elements(By.TAG_NAME, \"a\")\n",
    "for in_the_news_link in in_the_news_details:\n",
    "    final[\"in_the_news\"].append({\n",
    "        \"title\": in_the_news_link.get_attribute(\"title\"),\n",
    "        \"text\": in_the_news_link.text,\n",
    "        \"href\": in_the_news_link.get_attribute(\"href\"),\n",
    "    })\n",
    "print(final)"
   ]
  },
  {
   "cell_type": "code",
   "execution_count": null,
   "id": "9ec35630",
   "metadata": {},
   "outputs": [],
   "source": []
  }
 ],
 "metadata": {
  "kernelspec": {
   "display_name": "Python 3 (ipykernel)",
   "language": "python",
   "name": "python3"
  },
  "language_info": {
   "codemirror_mode": {
    "name": "ipython",
    "version": 3
   },
   "file_extension": ".py",
   "mimetype": "text/x-python",
   "name": "python",
   "nbconvert_exporter": "python",
   "pygments_lexer": "ipython3",
   "version": "3.12.4"
  }
 },
 "nbformat": 4,
 "nbformat_minor": 5
}
