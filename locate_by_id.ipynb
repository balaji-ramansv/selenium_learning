{
 "cells": [
  {
   "cell_type": "code",
   "execution_count": 3,
   "id": "29179c02",
   "metadata": {},
   "outputs": [],
   "source": [
    "from settings import SELENIUM_URL, CHROMEDRIVER_PATH\n",
    "from selenium import webdriver\n",
    "from selenium.webdriver.chrome.service import Service\n",
    "from selenium.webdriver.common.by import By"
   ]
  },
  {
   "cell_type": "code",
   "execution_count": 4,
   "id": "cd17d96f",
   "metadata": {},
   "outputs": [],
   "source": [
    "service = Service(executable_path=CHROMEDRIVER_PATH)"
   ]
  },
  {
   "cell_type": "code",
   "execution_count": 5,
   "id": "5a412756",
   "metadata": {},
   "outputs": [],
   "source": [
    "driver = webdriver.Chrome(service=service)"
   ]
  },
  {
   "cell_type": "code",
   "execution_count": 6,
   "id": "fb169acd",
   "metadata": {},
   "outputs": [],
   "source": [
    "driver.get(SELENIUM_URL)"
   ]
  },
  {
   "cell_type": "code",
   "execution_count": 7,
   "id": "26da512b",
   "metadata": {},
   "outputs": [],
   "source": [
    "element1 = driver.find_element(By.ID, 'Layer_1')"
   ]
  },
  {
   "cell_type": "code",
   "execution_count": 8,
   "id": "23187ca6",
   "metadata": {},
   "outputs": [
    {
     "name": "stdout",
     "output_type": "stream",
     "text": [
      "Layer 1\n"
     ]
    }
   ],
   "source": [
    "print(element1.get_attribute('data-name'))"
   ]
  },
  {
   "cell_type": "code",
   "execution_count": 9,
   "id": "3dd3c0b0",
   "metadata": {},
   "outputs": [],
   "source": [
    "element2 = driver.find_element(By.CSS_SELECTOR, 'svg#Layer_1')"
   ]
  },
  {
   "cell_type": "code",
   "execution_count": 10,
   "id": "46fa6db6",
   "metadata": {},
   "outputs": [
    {
     "name": "stdout",
     "output_type": "stream",
     "text": [
      "Layer 1\n"
     ]
    }
   ],
   "source": [
    "print(element2.get_attribute('data-name'))"
   ]
  },
  {
   "cell_type": "code",
   "execution_count": 11,
   "id": "dfa969b2",
   "metadata": {},
   "outputs": [],
   "source": [
    "driver.quit()"
   ]
  },
  {
   "cell_type": "code",
   "execution_count": null,
   "id": "c9ad825c",
   "metadata": {},
   "outputs": [],
   "source": []
  }
 ],
 "metadata": {
  "kernelspec": {
   "display_name": "Python 3 (ipykernel)",
   "language": "python",
   "name": "python3"
  },
  "language_info": {
   "codemirror_mode": {
    "name": "ipython",
    "version": 3
   },
   "file_extension": ".py",
   "mimetype": "text/x-python",
   "name": "python",
   "nbconvert_exporter": "python",
   "pygments_lexer": "ipython3",
   "version": "3.12.4"
  }
 },
 "nbformat": 4,
 "nbformat_minor": 5
}
