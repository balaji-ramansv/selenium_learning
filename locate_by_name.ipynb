{
 "cells": [
  {
   "cell_type": "code",
   "execution_count": 3,
   "id": "15f321d0",
   "metadata": {},
   "outputs": [],
   "source": [
    "from settings import CHROMEDRIVER_PATH, PYTHON_URL\n",
    "from selenium import webdriver\n",
    "from selenium.webdriver.chrome.service import Service\n",
    "from selenium.webdriver.common.by import By"
   ]
  },
  {
   "cell_type": "code",
   "execution_count": 4,
   "id": "eb270c44",
   "metadata": {},
   "outputs": [],
   "source": [
    "service = Service(executable_path=CHROMEDRIVER_PATH)\n",
    "driver = webdriver.Chrome(service=service)\n",
    "driver.get(PYTHON_URL)"
   ]
  },
  {
   "cell_type": "code",
   "execution_count": 5,
   "id": "666643ab",
   "metadata": {},
   "outputs": [],
   "source": [
    "element1 = driver.find_element(By.NAME, \"q\")"
   ]
  },
  {
   "cell_type": "code",
   "execution_count": 6,
   "id": "95c27f46",
   "metadata": {},
   "outputs": [
    {
     "data": {
      "text/plain": [
       "''"
      ]
     },
     "execution_count": 6,
     "metadata": {},
     "output_type": "execute_result"
    }
   ],
   "source": [
    "element1.text"
   ]
  },
  {
   "cell_type": "code",
   "execution_count": 7,
   "id": "e8f4fa29",
   "metadata": {},
   "outputs": [
    {
     "ename": "AttributeError",
     "evalue": "'WebElement' object has no attribute 'type'",
     "output_type": "error",
     "traceback": [
      "\u001b[1;31m---------------------------------------------------------------------------\u001b[0m",
      "\u001b[1;31mAttributeError\u001b[0m                            Traceback (most recent call last)",
      "Cell \u001b[1;32mIn [7], line 1\u001b[0m\n\u001b[1;32m----> 1\u001b[0m element1\u001b[38;5;241m.\u001b[39mtype\n",
      "\u001b[1;31mAttributeError\u001b[0m: 'WebElement' object has no attribute 'type'"
     ]
    }
   ],
   "source": [
    "element1.type"
   ]
  },
  {
   "cell_type": "code",
   "execution_count": 8,
   "id": "5c3831c9",
   "metadata": {},
   "outputs": [
    {
     "data": {
      "text/plain": [
       "'search'"
      ]
     },
     "execution_count": 8,
     "metadata": {},
     "output_type": "execute_result"
    }
   ],
   "source": [
    "element1.get_attribute('type')"
   ]
  },
  {
   "cell_type": "code",
   "execution_count": 9,
   "id": "e882861a",
   "metadata": {},
   "outputs": [
    {
     "data": {
      "text/plain": [
       "'input'"
      ]
     },
     "execution_count": 9,
     "metadata": {},
     "output_type": "execute_result"
    }
   ],
   "source": [
    "element1.tag_name"
   ]
  },
  {
   "cell_type": "code",
   "execution_count": 10,
   "id": "ddac42fa",
   "metadata": {},
   "outputs": [
    {
     "data": {
      "text/plain": [
       "'search-field'"
      ]
     },
     "execution_count": 10,
     "metadata": {},
     "output_type": "execute_result"
    }
   ],
   "source": [
    "element1.get_attribute('class')"
   ]
  },
  {
   "cell_type": "code",
   "execution_count": 12,
   "id": "78684e9a",
   "metadata": {},
   "outputs": [],
   "source": [
    "element2 = driver.find_element(By.NAME, \"submit\")"
   ]
  },
  {
   "cell_type": "code",
   "execution_count": 13,
   "id": "18d2ae82",
   "metadata": {},
   "outputs": [
    {
     "data": {
      "text/plain": [
       "'GO'"
      ]
     },
     "execution_count": 13,
     "metadata": {},
     "output_type": "execute_result"
    }
   ],
   "source": [
    "element2.text"
   ]
  },
  {
   "cell_type": "code",
   "execution_count": 14,
   "id": "ef39eba3",
   "metadata": {},
   "outputs": [],
   "source": [
    "element3 = driver.find_element(By.NAME, 'keywords')"
   ]
  },
  {
   "cell_type": "code",
   "execution_count": 15,
   "id": "a616c622",
   "metadata": {},
   "outputs": [
    {
     "data": {
      "text/plain": [
       "'meta'"
      ]
     },
     "execution_count": 15,
     "metadata": {},
     "output_type": "execute_result"
    }
   ],
   "source": [
    "element3.tag_name"
   ]
  },
  {
   "cell_type": "code",
   "execution_count": 16,
   "id": "53036146",
   "metadata": {},
   "outputs": [
    {
     "data": {
      "text/plain": [
       "'Python programming language object oriented web free open source software license documentation download community'"
      ]
     },
     "execution_count": 16,
     "metadata": {},
     "output_type": "execute_result"
    }
   ],
   "source": [
    "element3.get_attribute('content')"
   ]
  },
  {
   "cell_type": "code",
   "execution_count": 17,
   "id": "a6538e4c",
   "metadata": {},
   "outputs": [],
   "source": [
    "driver.quit()"
   ]
  },
  {
   "cell_type": "code",
   "execution_count": null,
   "id": "f8ae611b",
   "metadata": {},
   "outputs": [],
   "source": []
  }
 ],
 "metadata": {
  "kernelspec": {
   "display_name": "Python 3 (ipykernel)",
   "language": "python",
   "name": "python3"
  },
  "language_info": {
   "codemirror_mode": {
    "name": "ipython",
    "version": 3
   },
   "file_extension": ".py",
   "mimetype": "text/x-python",
   "name": "python",
   "nbconvert_exporter": "python",
   "pygments_lexer": "ipython3",
   "version": "3.12.4"
  }
 },
 "nbformat": 4,
 "nbformat_minor": 5
}
